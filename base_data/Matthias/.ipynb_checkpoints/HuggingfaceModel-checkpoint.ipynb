{
 "cells": [
  {
   "cell_type": "code",
   "execution_count": 1,
   "id": "9e587721",
   "metadata": {},
   "outputs": [
    {
     "data": {
      "text/plain": [
       "DatasetDict({\n",
       "    train: Dataset({\n",
       "        features: ['input_ids', 'token_type_ids', 'attention_mask', 'labels'],\n",
       "        num_rows: 78\n",
       "    })\n",
       "    valid: Dataset({\n",
       "        features: ['input_ids', 'token_type_ids', 'attention_mask', 'labels'],\n",
       "        num_rows: 27\n",
       "    })\n",
       "    test: Dataset({\n",
       "        features: ['input_ids', 'token_type_ids', 'attention_mask', 'labels'],\n",
       "        num_rows: 35\n",
       "    })\n",
       "})"
      ]
     },
     "execution_count": 1,
     "metadata": {},
     "output_type": "execute_result"
    }
   ],
   "source": [
    "from datasets import load_from_disk\n",
    "gNerDataset = load_from_disk(\"gNERdataset\")\n",
    "gNerDataset"
   ]
  },
  {
   "cell_type": "code",
   "execution_count": 2,
   "id": "97a9228c",
   "metadata": {},
   "outputs": [
    {
     "data": {
      "text/plain": [
       "['DATUM_VERBUECHERUNG',\n",
       " 'DATUM_VERTRAG',\n",
       " 'FLAECHE',\n",
       " 'GESAMTPREIS',\n",
       " 'IMMO_TYP',\n",
       " 'KAEUFER',\n",
       " 'O',\n",
       " 'ORT',\n",
       " 'QMPREIS',\n",
       " 'STRASSE',\n",
       " 'TERRASSENGROESSE',\n",
       " 'VERKAEUFER']"
      ]
     },
     "execution_count": 2,
     "metadata": {},
     "output_type": "execute_result"
    }
   ],
   "source": [
    "ner_tag_names = ['DATUM_VERBUECHERUNG',\n",
    "    'DATUM_VERTRAG',\n",
    "    'FLAECHE',\n",
    "    'GESAMTPREIS',\n",
    "    'IMMO_TYP',\n",
    "    'KAEUFER',\n",
    "    'O',\n",
    "    'ORT',\n",
    "    'QMPREIS',\n",
    "    'STRASSE',\n",
    "    'TERRASSENGROESSE',\n",
    "    'VERKAEUFER'\n",
    "]\n",
    "ner_tag_names"
   ]
  },
  {
   "cell_type": "markdown",
   "id": "f2aa4488",
   "metadata": {},
   "source": [
    "https://discuss.huggingface.co/t/batch-k-torch-tensor-f-k-for-f-in-features-valueerror-expected-sequence-of-length-3-at-dim-1-got-4/1354/4"
   ]
  },
  {
   "cell_type": "code",
   "execution_count": 3,
   "id": "012810b5",
   "metadata": {},
   "outputs": [
    {
     "data": {
      "text/plain": [
       "True"
      ]
     },
     "execution_count": 3,
     "metadata": {},
     "output_type": "execute_result"
    }
   ],
   "source": [
    "from transformers import AutoTokenizer\n",
    "checkpoint = \"flair/ner-german\"       # https://huggingface.co/flair/ner-german (1.41GB)\n",
    "checkpoint = \"fhswf/bert_de_ner\"      # https://huggingface.co/fhswf/bert_de_ner (419MB)\n",
    "checkpoint = \"bert-base-cased\"        # https://huggingface.co/bert-base-cased (416MB)\n",
    "checkpoint = \"bert-base-german-cased\" # https://huggingface.co/bert-base-german-cased (419MB)\n",
    "tokenizer = AutoTokenizer.from_pretrained(checkpoint)\n",
    "tokenizer.is_fast"
   ]
  },
  {
   "cell_type": "code",
   "execution_count": 4,
   "id": "7b6488e5",
   "metadata": {},
   "outputs": [
    {
     "data": {
      "text/plain": [
       "tensor([[-100,    7,    7,    7,    6,    6,    9,    9,    9,    9,    9,    6,\n",
       "            7,    7,    7,    6,    6,    6,    2,    2,    2,    6,    6,    6,\n",
       "            6,    6,    6,    6,    4,    4,    4,    4,    6,    6,    6,    6,\n",
       "            6,    6,    6,    6,    6,    6,    6,    6,    6,    6,    6,    6,\n",
       "            6,    6,    6,    6,    6,    6,    6,    6,    6,    6,    6,    6,\n",
       "            6,    6,    6,    6,    6,    6,    6,    6,    6,    5,    5,    5,\n",
       "            5,    5,    5,    6,    6,    6,    6,    6,    6,    6,    6,    6,\n",
       "            6,    6,    6,    6,    6,    6,    6,    8,    8,    8,    8,    6,\n",
       "            6,    6,    6,    6,    6,    6,    6,    6,    6,    6,    6,    6,\n",
       "            6,    6,    6,    6,    6,    6,    6,    6,    6,    6,    6,    6,\n",
       "            6,    6,    6,    6,    6,    6,    6,    6,    6,    6,    6,    6,\n",
       "            1,    1,    1,    1,    6,    6,    6,    6,    6,    6,    6,    6,\n",
       "            6,    6,    6,    0,    0,    0,    0,    0,    0, -100, -100, -100,\n",
       "         -100, -100, -100, -100, -100, -100, -100, -100, -100, -100, -100, -100,\n",
       "         -100, -100, -100, -100, -100, -100, -100, -100, -100, -100, -100, -100,\n",
       "         -100, -100, -100, -100, -100, -100, -100, -100, -100, -100, -100, -100,\n",
       "         -100, -100, -100, -100, -100, -100, -100],\n",
       "        [-100,    7,    7,    7,    7,    7,    7,    6,    6,    9,    9,    9,\n",
       "            9,    9,    9,    9,    6,    7,    7,    7,    7,    7,    6,    6,\n",
       "            6,    2,    2,    2,    6,    6,    6,    6,    6,    6,    6,    4,\n",
       "            4,    4,    4,    6,    6,    6,    6,    6,    6,    6,    6,    6,\n",
       "            6,    6,    6,    6,    6,    6,    6,    6,    8,    8,    8,    8,\n",
       "            6,    6,    6,    6,    6,    6,    6,    6,    6,    6,    6,    6,\n",
       "            6,    6,    6,    6,    6,    6,    6,    6,    6,    6,    6,    6,\n",
       "            6,    6,    6,    6,    6,    6,    6,    6,    6,    6,    6,    6,\n",
       "            6,    6,    6,    6,    6,    6,    6,   10,   10,   10,    6,    6,\n",
       "            6,    6,    6,    6,    6,    6,    6,    6,    6,    5,    5,    5,\n",
       "            5,    5,    6,    6,    6,    6,    6,    6,    6,    6,    6,    6,\n",
       "            6,    6,    6,    6,    6,   11,   11,   11,   11,   11,   11,   11,\n",
       "           11,   11,    6,    6,    6,    6,    6,    6,    6,    6,    6,    3,\n",
       "            3,    3,    3,    6,    6,    6,    6,    6,    6,    6,    6,    6,\n",
       "            6,    6,    6,    6,    6,    6,    6,    1,    1,    1,    1,    1,\n",
       "            1,    6,    6,    6,    6,    6,    6,    6,    6,    6,    6,    6,\n",
       "            0,    0,    0,    0,    0,    0, -100]])"
      ]
     },
     "execution_count": 4,
     "metadata": {},
     "output_type": "execute_result"
    }
   ],
   "source": [
    "from transformers import DataCollatorForTokenClassification\n",
    "data_collator = DataCollatorForTokenClassification(tokenizer=tokenizer)\n",
    "batch = data_collator([gNerDataset[\"train\"][i] for i in range(2)])\n",
    "batch[\"labels\"]"
   ]
  },
  {
   "cell_type": "code",
   "execution_count": 5,
   "id": "52bf4eb4",
   "metadata": {},
   "outputs": [],
   "source": [
    "#from datasets import load_metric\n",
    "#metric = load_metric(\"f1\")\n",
    "#train_0_labels = gNerDataset[\"train\"][0][\"labels\"]\n",
    "#num_labels = []\n",
    "#for label in train_0_labels:\n",
    "#    if label>=0:\n",
    "#        num_labels.append(label)\n",
    "#fudged_num_labels = num_labels.copy()\n",
    "#for i in range(45):\n",
    "#    fudged_num_labels[i] = 2\n",
    "#print(num_labels)\n",
    "#print(fudged_num_labels)\n",
    "#metric.compute(predictions=fudged_num_labels, references=num_labels, average=\"macro\")"
   ]
  },
  {
   "cell_type": "code",
   "execution_count": 6,
   "id": "dcf1e632",
   "metadata": {},
   "outputs": [
    {
     "data": {
      "text/plain": [
       "({'0': 'DATUM_VERBUECHERUNG',\n",
       "  '1': 'DATUM_VERTRAG',\n",
       "  '2': 'FLAECHE',\n",
       "  '3': 'GESAMTPREIS',\n",
       "  '4': 'IMMO_TYP',\n",
       "  '5': 'KAEUFER',\n",
       "  '6': 'O',\n",
       "  '7': 'ORT',\n",
       "  '8': 'QMPREIS',\n",
       "  '9': 'STRASSE',\n",
       "  '10': 'TERRASSENGROESSE',\n",
       "  '11': 'VERKAEUFER'},\n",
       " {'DATUM_VERBUECHERUNG': '0',\n",
       "  'DATUM_VERTRAG': '1',\n",
       "  'FLAECHE': '2',\n",
       "  'GESAMTPREIS': '3',\n",
       "  'IMMO_TYP': '4',\n",
       "  'KAEUFER': '5',\n",
       "  'O': '6',\n",
       "  'ORT': '7',\n",
       "  'QMPREIS': '8',\n",
       "  'STRASSE': '9',\n",
       "  'TERRASSENGROESSE': '10',\n",
       "  'VERKAEUFER': '11'})"
      ]
     },
     "execution_count": 6,
     "metadata": {},
     "output_type": "execute_result"
    }
   ],
   "source": [
    "id2label = {str(i): label for i, label in enumerate(ner_tag_names)}\n",
    "label2id = {v: k for k, v in id2label.items()}\n",
    "id2label, label2id"
   ]
  },
  {
   "cell_type": "code",
   "execution_count": 7,
   "id": "0cb84a94",
   "metadata": {},
   "outputs": [
    {
     "name": "stderr",
     "output_type": "stream",
     "text": [
      "Some weights of the model checkpoint at bert-base-german-cased were not used when initializing BertForTokenClassification: ['cls.predictions.decoder.weight', 'cls.predictions.transform.dense.weight', 'cls.predictions.transform.dense.bias', 'cls.predictions.bias', 'cls.predictions.transform.LayerNorm.bias', 'cls.seq_relationship.weight', 'cls.seq_relationship.bias', 'cls.predictions.transform.LayerNorm.weight']\n",
      "- This IS expected if you are initializing BertForTokenClassification from the checkpoint of a model trained on another task or with another architecture (e.g. initializing a BertForSequenceClassification model from a BertForPreTraining model).\n",
      "- This IS NOT expected if you are initializing BertForTokenClassification from the checkpoint of a model that you expect to be exactly identical (initializing a BertForSequenceClassification model from a BertForSequenceClassification model).\n",
      "Some weights of BertForTokenClassification were not initialized from the model checkpoint at bert-base-german-cased and are newly initialized: ['classifier.weight', 'classifier.bias']\n",
      "You should probably TRAIN this model on a down-stream task to be able to use it for predictions and inference.\n"
     ]
    },
    {
     "data": {
      "text/plain": [
       "12"
      ]
     },
     "execution_count": 7,
     "metadata": {},
     "output_type": "execute_result"
    }
   ],
   "source": [
    "from transformers import AutoModelForTokenClassification\n",
    "model = AutoModelForTokenClassification.from_pretrained(\n",
    "    checkpoint,\n",
    "    id2label=id2label,\n",
    "    label2id=label2id\n",
    ")\n",
    "model.config.num_labels"
   ]
  },
  {
   "cell_type": "code",
   "execution_count": 8,
   "id": "53b32a3c",
   "metadata": {},
   "outputs": [],
   "source": [
    "# https://huggingface.co/docs/transformers/main/en/main_classes/trainer#transformers.Trainer.compute_metrics\n",
    "import numpy as np\n",
    "from sklearn.metrics import f1_score\n",
    "def compute_metrics(eval_preds):\n",
    "    logits, labels = eval_preds\n",
    "    labels = np.array(labels)\n",
    "    #print(labels.shape)\n",
    "    predictions = np.argmax(logits, axis=-1)\n",
    "    label_names = ner_tag_names\n",
    "    true_labels = [[label_names[l] for l in label if l != -100] for label in labels] # list of lists\n",
    "    true_predictions = [                                                             # list of lists\n",
    "        [label_names[p] for (p, l) in zip(prediction, label) if l != -100]\n",
    "        for prediction, label in zip(predictions, labels)\n",
    "    ]\n",
    "    flat_true_labels = [label for true_labels_i in true_labels for label in true_labels_i]                   # list\n",
    "    flat_true_predictions = [pred for true_predictions_i in true_predictions for pred in true_predictions_i] # list\n",
    "    macroF1 = f1_score(flat_true_labels, flat_true_predictions, average=\"macro\")\n",
    "    return {\"F1 macro\": macroF1}"
   ]
  },
  {
   "cell_type": "markdown",
   "id": "2a8c2ab8",
   "metadata": {},
   "source": [
    "## Zero-shot baseline\n",
    "https://discuss.huggingface.co/t/using-trainer-at-inference-time/9378"
   ]
  },
  {
   "cell_type": "code",
   "execution_count": 9,
   "id": "879da000",
   "metadata": {},
   "outputs": [
    {
     "name": "stderr",
     "output_type": "stream",
     "text": [
      "***** Running Prediction *****\n",
      "  Num examples = 27\n",
      "  Batch size = 8\n"
     ]
    },
    {
     "data": {
      "text/html": [
       "\n",
       "    <div>\n",
       "      \n",
       "      <progress value='4' max='4' style='width:300px; height:20px; vertical-align: middle;'></progress>\n",
       "      [4/4 00:00]\n",
       "    </div>\n",
       "    "
      ],
      "text/plain": [
       "<IPython.core.display.HTML object>"
      ]
     },
     "metadata": {},
     "output_type": "display_data"
    },
    {
     "name": "stdout",
     "output_type": "stream",
     "text": [
      "ZERO-SHOT BASLINE\n",
      "macro averaged F_1 score:\n",
      "0.02015878731534101\n"
     ]
    }
   ],
   "source": [
    "# https://huggingface.co/transformers/v4.12.5/main_classes/trainer.html#trainingarguments\n",
    "output_dir = f\"gNER_{checkpoint}\"\n",
    "# using the model without further training\n",
    "# arguments for Trainer\n",
    "from transformers import TrainingArguments, Trainer\n",
    "test_args = TrainingArguments(\n",
    "    output_dir=output_dir,\n",
    "    do_train=False,\n",
    "    do_predict=True,\n",
    "    dataloader_drop_last=False\n",
    ")\n",
    "# init trainer\n",
    "trainer = Trainer(\n",
    "    model=model, \n",
    "    args=test_args,\n",
    "    compute_metrics=compute_metrics,\n",
    "    data_collator=data_collator,\n",
    "    tokenizer=tokenizer\n",
    ")\n",
    "test_results = trainer.predict(gNerDataset[\"valid\"])\n",
    "print(f\"ZERO-SHOT BASLINE\\nmacro averaged F_1 score:\\n{test_results.metrics['test_F1 macro']}\")"
   ]
  },
  {
   "cell_type": "markdown",
   "id": "752f12d8",
   "metadata": {},
   "source": [
    "## Training"
   ]
  },
  {
   "cell_type": "markdown",
   "id": "c0dde061",
   "metadata": {},
   "source": [
    "Use trained model for inference: https://discuss.huggingface.co/t/using-trainer-at-inference-time/9378<br>\n",
    "Save and reload the best model: https://discuss.huggingface.co/t/save-only-best-model-in-trainer/8442\n",
    "\n",
    "Hyperparameter search:\n",
    "- hyperparameter search 1: https://discuss.huggingface.co/t/using-hyperparameter-search-in-trainer/785/10\n",
    "- hyperparameter search 2: https://huggingface.co/docs/transformers/main_classes/trainer#transformers.Trainer.hyperparameter_search\n",
    "\n",
    "Summary of the HF forum [thread](https://discuss.huggingface.co/t/save-only-best-model-in-trainer/8442) on saving and reloading the best model: Use `TrainingArguments` with arguments as listed below:"
   ]
  },
  {
   "cell_type": "code",
   "execution_count": 10,
   "id": "c04b18de",
   "metadata": {},
   "outputs": [
    {
     "name": "stderr",
     "output_type": "stream",
     "text": [
      "PyTorch: setting up devices\n",
      "The default value for the training argument `--report_to` will change in v5 (from all installed integrations to none). In v5, you will need to use `--report_to all` to get the same behavior as now. You should start updating your code and make this info disappear :-).\n",
      "***** Running training *****\n",
      "  Num examples = 78\n",
      "  Num Epochs = 15\n",
      "  Instantaneous batch size per device = 8\n",
      "  Total train batch size (w. parallel, distributed & accumulation) = 8\n",
      "  Gradient Accumulation steps = 1\n",
      "  Total optimization steps = 150\n"
     ]
    },
    {
     "data": {
      "text/html": [
       "\n",
       "    <div>\n",
       "      \n",
       "      <progress value='150' max='150' style='width:300px; height:20px; vertical-align: middle;'></progress>\n",
       "      [150/150 00:55, Epoch 15/15]\n",
       "    </div>\n",
       "    <table border=\"1\" class=\"dataframe\">\n",
       "  <thead>\n",
       "    <tr style=\"text-align: left;\">\n",
       "      <th>Epoch</th>\n",
       "      <th>Training Loss</th>\n",
       "      <th>Validation Loss</th>\n",
       "      <th>F1 macro</th>\n",
       "    </tr>\n",
       "  </thead>\n",
       "  <tbody>\n",
       "    <tr>\n",
       "      <td>1</td>\n",
       "      <td>No log</td>\n",
       "      <td>0.891009</td>\n",
       "      <td>0.173385</td>\n",
       "    </tr>\n",
       "    <tr>\n",
       "      <td>2</td>\n",
       "      <td>No log</td>\n",
       "      <td>0.497953</td>\n",
       "      <td>0.570139</td>\n",
       "    </tr>\n",
       "    <tr>\n",
       "      <td>3</td>\n",
       "      <td>No log</td>\n",
       "      <td>0.357203</td>\n",
       "      <td>0.740708</td>\n",
       "    </tr>\n",
       "    <tr>\n",
       "      <td>4</td>\n",
       "      <td>No log</td>\n",
       "      <td>0.263603</td>\n",
       "      <td>0.827569</td>\n",
       "    </tr>\n",
       "    <tr>\n",
       "      <td>5</td>\n",
       "      <td>No log</td>\n",
       "      <td>0.241945</td>\n",
       "      <td>0.832146</td>\n",
       "    </tr>\n",
       "    <tr>\n",
       "      <td>6</td>\n",
       "      <td>No log</td>\n",
       "      <td>0.219426</td>\n",
       "      <td>0.839501</td>\n",
       "    </tr>\n",
       "    <tr>\n",
       "      <td>7</td>\n",
       "      <td>No log</td>\n",
       "      <td>0.229211</td>\n",
       "      <td>0.890493</td>\n",
       "    </tr>\n",
       "    <tr>\n",
       "      <td>8</td>\n",
       "      <td>No log</td>\n",
       "      <td>0.213551</td>\n",
       "      <td>0.884399</td>\n",
       "    </tr>\n",
       "    <tr>\n",
       "      <td>9</td>\n",
       "      <td>No log</td>\n",
       "      <td>0.225608</td>\n",
       "      <td>0.888866</td>\n",
       "    </tr>\n",
       "    <tr>\n",
       "      <td>10</td>\n",
       "      <td>No log</td>\n",
       "      <td>0.236875</td>\n",
       "      <td>0.885897</td>\n",
       "    </tr>\n",
       "    <tr>\n",
       "      <td>11</td>\n",
       "      <td>No log</td>\n",
       "      <td>0.239193</td>\n",
       "      <td>0.890464</td>\n",
       "    </tr>\n",
       "    <tr>\n",
       "      <td>12</td>\n",
       "      <td>No log</td>\n",
       "      <td>0.237734</td>\n",
       "      <td>0.891918</td>\n",
       "    </tr>\n",
       "    <tr>\n",
       "      <td>13</td>\n",
       "      <td>No log</td>\n",
       "      <td>0.247383</td>\n",
       "      <td>0.890593</td>\n",
       "    </tr>\n",
       "    <tr>\n",
       "      <td>14</td>\n",
       "      <td>No log</td>\n",
       "      <td>0.248428</td>\n",
       "      <td>0.891322</td>\n",
       "    </tr>\n",
       "    <tr>\n",
       "      <td>15</td>\n",
       "      <td>No log</td>\n",
       "      <td>0.248299</td>\n",
       "      <td>0.890468</td>\n",
       "    </tr>\n",
       "  </tbody>\n",
       "</table><p>"
      ],
      "text/plain": [
       "<IPython.core.display.HTML object>"
      ]
     },
     "metadata": {},
     "output_type": "display_data"
    },
    {
     "name": "stderr",
     "output_type": "stream",
     "text": [
      "***** Running Evaluation *****\n",
      "  Num examples = 27\n",
      "  Batch size = 8\n",
      "Saving model checkpoint to gNER_bert-base-german-cased/checkpoint-10\n",
      "Configuration saved in gNER_bert-base-german-cased/checkpoint-10/config.json\n",
      "Model weights saved in gNER_bert-base-german-cased/checkpoint-10/pytorch_model.bin\n",
      "tokenizer config file saved in gNER_bert-base-german-cased/checkpoint-10/tokenizer_config.json\n",
      "Special tokens file saved in gNER_bert-base-german-cased/checkpoint-10/special_tokens_map.json\n",
      "***** Running Evaluation *****\n",
      "  Num examples = 27\n",
      "  Batch size = 8\n",
      "Saving model checkpoint to gNER_bert-base-german-cased/checkpoint-20\n",
      "Configuration saved in gNER_bert-base-german-cased/checkpoint-20/config.json\n",
      "Model weights saved in gNER_bert-base-german-cased/checkpoint-20/pytorch_model.bin\n",
      "tokenizer config file saved in gNER_bert-base-german-cased/checkpoint-20/tokenizer_config.json\n",
      "Special tokens file saved in gNER_bert-base-german-cased/checkpoint-20/special_tokens_map.json\n",
      "***** Running Evaluation *****\n",
      "  Num examples = 27\n",
      "  Batch size = 8\n",
      "Saving model checkpoint to gNER_bert-base-german-cased/checkpoint-30\n",
      "Configuration saved in gNER_bert-base-german-cased/checkpoint-30/config.json\n",
      "Model weights saved in gNER_bert-base-german-cased/checkpoint-30/pytorch_model.bin\n",
      "tokenizer config file saved in gNER_bert-base-german-cased/checkpoint-30/tokenizer_config.json\n",
      "Special tokens file saved in gNER_bert-base-german-cased/checkpoint-30/special_tokens_map.json\n",
      "***** Running Evaluation *****\n",
      "  Num examples = 27\n",
      "  Batch size = 8\n",
      "Saving model checkpoint to gNER_bert-base-german-cased/checkpoint-40\n",
      "Configuration saved in gNER_bert-base-german-cased/checkpoint-40/config.json\n",
      "Model weights saved in gNER_bert-base-german-cased/checkpoint-40/pytorch_model.bin\n",
      "tokenizer config file saved in gNER_bert-base-german-cased/checkpoint-40/tokenizer_config.json\n",
      "Special tokens file saved in gNER_bert-base-german-cased/checkpoint-40/special_tokens_map.json\n",
      "***** Running Evaluation *****\n",
      "  Num examples = 27\n",
      "  Batch size = 8\n",
      "Saving model checkpoint to gNER_bert-base-german-cased/checkpoint-50\n",
      "Configuration saved in gNER_bert-base-german-cased/checkpoint-50/config.json\n",
      "Model weights saved in gNER_bert-base-german-cased/checkpoint-50/pytorch_model.bin\n",
      "tokenizer config file saved in gNER_bert-base-german-cased/checkpoint-50/tokenizer_config.json\n",
      "Special tokens file saved in gNER_bert-base-german-cased/checkpoint-50/special_tokens_map.json\n",
      "***** Running Evaluation *****\n",
      "  Num examples = 27\n",
      "  Batch size = 8\n",
      "Saving model checkpoint to gNER_bert-base-german-cased/checkpoint-60\n",
      "Configuration saved in gNER_bert-base-german-cased/checkpoint-60/config.json\n",
      "Model weights saved in gNER_bert-base-german-cased/checkpoint-60/pytorch_model.bin\n",
      "tokenizer config file saved in gNER_bert-base-german-cased/checkpoint-60/tokenizer_config.json\n",
      "Special tokens file saved in gNER_bert-base-german-cased/checkpoint-60/special_tokens_map.json\n",
      "***** Running Evaluation *****\n",
      "  Num examples = 27\n",
      "  Batch size = 8\n",
      "Saving model checkpoint to gNER_bert-base-german-cased/checkpoint-70\n",
      "Configuration saved in gNER_bert-base-german-cased/checkpoint-70/config.json\n",
      "Model weights saved in gNER_bert-base-german-cased/checkpoint-70/pytorch_model.bin\n",
      "tokenizer config file saved in gNER_bert-base-german-cased/checkpoint-70/tokenizer_config.json\n",
      "Special tokens file saved in gNER_bert-base-german-cased/checkpoint-70/special_tokens_map.json\n",
      "***** Running Evaluation *****\n",
      "  Num examples = 27\n",
      "  Batch size = 8\n",
      "Saving model checkpoint to gNER_bert-base-german-cased/checkpoint-80\n",
      "Configuration saved in gNER_bert-base-german-cased/checkpoint-80/config.json\n",
      "Model weights saved in gNER_bert-base-german-cased/checkpoint-80/pytorch_model.bin\n",
      "tokenizer config file saved in gNER_bert-base-german-cased/checkpoint-80/tokenizer_config.json\n",
      "Special tokens file saved in gNER_bert-base-german-cased/checkpoint-80/special_tokens_map.json\n",
      "***** Running Evaluation *****\n",
      "  Num examples = 27\n",
      "  Batch size = 8\n",
      "Saving model checkpoint to gNER_bert-base-german-cased/checkpoint-90\n",
      "Configuration saved in gNER_bert-base-german-cased/checkpoint-90/config.json\n",
      "Model weights saved in gNER_bert-base-german-cased/checkpoint-90/pytorch_model.bin\n",
      "tokenizer config file saved in gNER_bert-base-german-cased/checkpoint-90/tokenizer_config.json\n",
      "Special tokens file saved in gNER_bert-base-german-cased/checkpoint-90/special_tokens_map.json\n",
      "***** Running Evaluation *****\n",
      "  Num examples = 27\n",
      "  Batch size = 8\n",
      "Saving model checkpoint to gNER_bert-base-german-cased/checkpoint-100\n",
      "Configuration saved in gNER_bert-base-german-cased/checkpoint-100/config.json\n",
      "Model weights saved in gNER_bert-base-german-cased/checkpoint-100/pytorch_model.bin\n",
      "tokenizer config file saved in gNER_bert-base-german-cased/checkpoint-100/tokenizer_config.json\n",
      "Special tokens file saved in gNER_bert-base-german-cased/checkpoint-100/special_tokens_map.json\n",
      "***** Running Evaluation *****\n",
      "  Num examples = 27\n",
      "  Batch size = 8\n",
      "Saving model checkpoint to gNER_bert-base-german-cased/checkpoint-110\n",
      "Configuration saved in gNER_bert-base-german-cased/checkpoint-110/config.json\n",
      "Model weights saved in gNER_bert-base-german-cased/checkpoint-110/pytorch_model.bin\n",
      "tokenizer config file saved in gNER_bert-base-german-cased/checkpoint-110/tokenizer_config.json\n",
      "Special tokens file saved in gNER_bert-base-german-cased/checkpoint-110/special_tokens_map.json\n",
      "***** Running Evaluation *****\n",
      "  Num examples = 27\n",
      "  Batch size = 8\n",
      "Saving model checkpoint to gNER_bert-base-german-cased/checkpoint-120\n",
      "Configuration saved in gNER_bert-base-german-cased/checkpoint-120/config.json\n",
      "Model weights saved in gNER_bert-base-german-cased/checkpoint-120/pytorch_model.bin\n",
      "tokenizer config file saved in gNER_bert-base-german-cased/checkpoint-120/tokenizer_config.json\n",
      "Special tokens file saved in gNER_bert-base-german-cased/checkpoint-120/special_tokens_map.json\n",
      "***** Running Evaluation *****\n",
      "  Num examples = 27\n",
      "  Batch size = 8\n",
      "Saving model checkpoint to gNER_bert-base-german-cased/checkpoint-130\n",
      "Configuration saved in gNER_bert-base-german-cased/checkpoint-130/config.json\n",
      "Model weights saved in gNER_bert-base-german-cased/checkpoint-130/pytorch_model.bin\n",
      "tokenizer config file saved in gNER_bert-base-german-cased/checkpoint-130/tokenizer_config.json\n",
      "Special tokens file saved in gNER_bert-base-german-cased/checkpoint-130/special_tokens_map.json\n",
      "***** Running Evaluation *****\n",
      "  Num examples = 27\n",
      "  Batch size = 8\n",
      "Saving model checkpoint to gNER_bert-base-german-cased/checkpoint-140\n",
      "Configuration saved in gNER_bert-base-german-cased/checkpoint-140/config.json\n",
      "Model weights saved in gNER_bert-base-german-cased/checkpoint-140/pytorch_model.bin\n",
      "tokenizer config file saved in gNER_bert-base-german-cased/checkpoint-140/tokenizer_config.json\n",
      "Special tokens file saved in gNER_bert-base-german-cased/checkpoint-140/special_tokens_map.json\n",
      "***** Running Evaluation *****\n",
      "  Num examples = 27\n",
      "  Batch size = 8\n",
      "Saving model checkpoint to gNER_bert-base-german-cased/checkpoint-150\n",
      "Configuration saved in gNER_bert-base-german-cased/checkpoint-150/config.json\n",
      "Model weights saved in gNER_bert-base-german-cased/checkpoint-150/pytorch_model.bin\n",
      "tokenizer config file saved in gNER_bert-base-german-cased/checkpoint-150/tokenizer_config.json\n",
      "Special tokens file saved in gNER_bert-base-german-cased/checkpoint-150/special_tokens_map.json\n",
      "\n",
      "\n",
      "Training completed. Do not forget to share your model on huggingface.co/models =)\n",
      "\n",
      "\n",
      "Loading best model from gNER_bert-base-german-cased/checkpoint-80 (score: 0.21355055272579193).\n"
     ]
    },
    {
     "data": {
      "text/plain": [
       "TrainOutput(global_step=150, training_loss=0.2384929911295573, metrics={'train_runtime': 55.3863, 'train_samples_per_second': 21.124, 'train_steps_per_second': 2.708, 'total_flos': 114836016234528.0, 'train_loss': 0.2384929911295573, 'epoch': 15.0})"
      ]
     },
     "execution_count": 10,
     "metadata": {},
     "output_type": "execute_result"
    }
   ],
   "source": [
    "# training arguments\n",
    "train_args = TrainingArguments(\n",
    "    output_dir,\n",
    "    # https://huggingface.co/docs/transformers/main_classes/trainer#transformers.TrainingArguments.load_best_model_at_end\n",
    "    evaluation_strategy=\"epoch\",\n",
    "    save_strategy=\"epoch\",\n",
    "    load_best_model_at_end=True, # loads checkpoint with lowest loss on validation set\n",
    "    learning_rate=5e-5,\n",
    "    # https://github.com/huggingface/transformers/blob/main/src/transformers/trainer_utils.py#L356\n",
    "    # \"linear\" \"cosine\" \"cosine_with_restarts\" \"polynomial\", \"constant\", \"constant_with_warmup\"\n",
    "    lr_scheduler_type=\"cosine\",\n",
    "    num_train_epochs=15,\n",
    "    weight_decay=0.03,\n",
    "    push_to_hub=False\n",
    ")\n",
    "trainer = Trainer(\n",
    "    model=model,\n",
    "    args=train_args,\n",
    "    train_dataset=gNerDataset[\"train\"], # \"train\"\n",
    "    eval_dataset=gNerDataset[\"valid\"],  # \"valid\"\n",
    "    # https://huggingface.co/docs/transformers/main/en/main_classes/trainer#transformers.Trainer.compute_metrics\n",
    "    compute_metrics=compute_metrics,\n",
    "    data_collator=data_collator,\n",
    "    tokenizer=tokenizer\n",
    ")\n",
    "trainer.train()\n",
    "# learning rate, weight decay, lr_scheduler_type,   valid F1  valid loss\n",
    "# 5e-5           0.001         linear               0.868     0.207\n",
    "# 5e-5           0.001         cosine               0.901     0.192\n",
    "# 5e-5           0.001         cosine_with_restarts 0.895     0.239\n",
    "# 5e-5           0.001         polynomial           0.885     0.212\n",
    "# 5e-5           0.001         constant             0.873     0.195\n",
    "# 5e-5           0.001         constant_with_warmup 0.875     0.193\n",
    "\n",
    "# 5e-5           0.005         cosine               0.885     0.208\n",
    "# 5e-5           0.01          cosine               0.890     0.208\n",
    "# 5e-5           0.03          cosine               0.894     0.189"
   ]
  },
  {
   "cell_type": "markdown",
   "id": "377a232c",
   "metadata": {},
   "source": [
    "Resulting score"
   ]
  },
  {
   "cell_type": "code",
   "execution_count": 11,
   "id": "4447a781",
   "metadata": {},
   "outputs": [
    {
     "name": "stderr",
     "output_type": "stream",
     "text": [
      "***** Running Prediction *****\n",
      "  Num examples = 27\n",
      "  Batch size = 8\n"
     ]
    },
    {
     "data": {
      "text/html": [
       "\n",
       "    <div>\n",
       "      \n",
       "      <progress value='4' max='4' style='width:300px; height:20px; vertical-align: middle;'></progress>\n",
       "      [4/4 00:00]\n",
       "    </div>\n",
       "    "
      ],
      "text/plain": [
       "<IPython.core.display.HTML object>"
      ]
     },
     "metadata": {},
     "output_type": "display_data"
    },
    {
     "data": {
      "text/plain": [
       "0.8843988145389998"
      ]
     },
     "execution_count": 11,
     "metadata": {},
     "output_type": "execute_result"
    }
   ],
   "source": [
    "# https://discuss.huggingface.co/t/using-trainer-at-inference-time/9378/7\n",
    "test_results = trainer.predict(gNerDataset[\"valid\"]) # use \"test\" instead of \"valid\" when done with development\n",
    "test_results.metrics[\"test_F1 macro\"]"
   ]
  },
  {
   "cell_type": "code",
   "execution_count": 12,
   "id": "4608a5f8",
   "metadata": {},
   "outputs": [],
   "source": [
    "# https://discuss.huggingface.co/t/model-inference-on-tokenized-dataset/14820"
   ]
  },
  {
   "cell_type": "markdown",
   "id": "be5fc322",
   "metadata": {},
   "source": [
    "$\\checkmark$"
   ]
  }
 ],
 "metadata": {
  "kernelspec": {
   "display_name": "Python 3 (ipykernel)",
   "language": "python",
   "name": "python3"
  },
  "language_info": {
   "codemirror_mode": {
    "name": "ipython",
    "version": 3
   },
   "file_extension": ".py",
   "mimetype": "text/x-python",
   "name": "python",
   "nbconvert_exporter": "python",
   "pygments_lexer": "ipython3",
   "version": "3.9.7"
  }
 },
 "nbformat": 4,
 "nbformat_minor": 5
}
