{
 "cells": [
  {
   "cell_type": "code",
   "execution_count": 1,
   "id": "9e587721",
   "metadata": {},
   "outputs": [
    {
     "data": {
      "text/plain": [
       "DatasetDict({\n",
       "    train: Dataset({\n",
       "        features: ['input_ids', 'token_type_ids', 'attention_mask', 'labels'],\n",
       "        num_rows: 105\n",
       "    })\n",
       "    test: Dataset({\n",
       "        features: ['input_ids', 'token_type_ids', 'attention_mask', 'labels'],\n",
       "        num_rows: 35\n",
       "    })\n",
       "})"
      ]
     },
     "execution_count": 1,
     "metadata": {},
     "output_type": "execute_result"
    }
   ],
   "source": [
    "from datasets import load_from_disk\n",
    "gNerDataset = load_from_disk(\"gNERdataset\")\n",
    "gNerDataset"
   ]
  },
  {
   "cell_type": "code",
   "execution_count": 2,
   "id": "97a9228c",
   "metadata": {},
   "outputs": [
    {
     "data": {
      "text/plain": [
       "['DATUM_VERBUECHERUNG',\n",
       " 'DATUM_VERTRAG',\n",
       " 'FLAECHE',\n",
       " 'GESAMTPREIS',\n",
       " 'IMMO_TYP',\n",
       " 'KAEUFER',\n",
       " 'O',\n",
       " 'ORT',\n",
       " 'QMPREIS',\n",
       " 'STRASSE',\n",
       " 'TERRASSENGROESSE',\n",
       " 'VERKAEUFER']"
      ]
     },
     "execution_count": 2,
     "metadata": {},
     "output_type": "execute_result"
    }
   ],
   "source": [
    "ner_tag_names = ['DATUM_VERBUECHERUNG',\n",
    "    'DATUM_VERTRAG',\n",
    "    'FLAECHE',\n",
    "    'GESAMTPREIS',\n",
    "    'IMMO_TYP',\n",
    "    'KAEUFER',\n",
    "    'O',\n",
    "    'ORT',\n",
    "    'QMPREIS',\n",
    "    'STRASSE',\n",
    "    'TERRASSENGROESSE',\n",
    "    'VERKAEUFER'\n",
    "]\n",
    "ner_tag_names"
   ]
  },
  {
   "cell_type": "code",
   "execution_count": 3,
   "id": "012810b5",
   "metadata": {},
   "outputs": [
    {
     "data": {
      "text/plain": [
       "True"
      ]
     },
     "execution_count": 3,
     "metadata": {},
     "output_type": "execute_result"
    }
   ],
   "source": [
    "from transformers import AutoTokenizer\n",
    "checkpoint = \"flair/ner-german\"       # https://huggingface.co/flair/ner-german (1.41GB)\n",
    "checkpoint = \"fhswf/bert_de_ner\"      # https://huggingface.co/fhswf/bert_de_ner (419MB)\n",
    "checkpoint = \"bert-base-cased\"        # https://huggingface.co/bert-base-cased (416MB)\n",
    "checkpoint = \"bert-base-german-cased\" # https://huggingface.co/bert-base-german-cased (419MB)\n",
    "tokenizer = AutoTokenizer.from_pretrained(checkpoint)\n",
    "tokenizer.is_fast"
   ]
  },
  {
   "cell_type": "code",
   "execution_count": 4,
   "id": "7b6488e5",
   "metadata": {},
   "outputs": [
    {
     "data": {
      "text/plain": [
       "tensor([[-100,    7,    7,    7,    7,    7,    6,    6,    9,    9,    9,    9,\n",
       "            9,    6,    7,    7,    7,    6,    6,    6,    2,    2,    2,    6,\n",
       "            6,    6,    6,    6,    6,    6,    4,    4,    4,    4,    6,   10,\n",
       "           10,   10,    6,    6,    6,    6,    6,    6,    6,    6,    6,    6,\n",
       "            6,    6,    6,    6,    6,    6,    6,    6,    6,    6,    6,    6,\n",
       "            6,    6,    6,    6,    6,    6,    6,    6,    6,    6,    6,    6,\n",
       "            6,    6,    6,    5,    5,    5,    5,    5,    5,    6,    6,    6,\n",
       "            6,    6,    6,    6,    6,    6,    6,    6,    6,    6,    6,    6,\n",
       "            6,    8,    8,    8,    8,    6,    6,    6,    6,    6,    6,    6,\n",
       "            6,    6,    6,    6,    6,    6,    6,    6,    6,    6,    6,    6,\n",
       "            6,    6,    6,    6,    6,    6,    6,    6,    6,    6,    6,    6,\n",
       "            6,    6,    6,    6,    6,    6,    1,    1,    1,    1,    6,    6,\n",
       "            6,    6,    6,    6,    6,    6,    6,    6,    6,    0,    0,    0,\n",
       "            0,    0, -100, -100, -100, -100, -100, -100, -100, -100, -100, -100,\n",
       "         -100, -100, -100, -100, -100, -100, -100, -100, -100, -100, -100, -100,\n",
       "         -100, -100, -100, -100, -100],\n",
       "        [-100,    7,    7,    7,    7,    7,    6,    6,    9,    9,    9,    9,\n",
       "            9,    9,    6,    7,    7,    7,    6,    6,    4,    4,    4,    4,\n",
       "            4,    4,    4,    4,    4,    4,    6,    6,    6,    6,    6,    6,\n",
       "            6,    6,    6,    6,    6,    6,    6,    6,    2,    6,    6,    6,\n",
       "            6,    6,    6,    6,    6,    6,    6,    6,    6,    6,    6,    6,\n",
       "            6,    6,    6,    6,    6,    6,    6,    6,    6,    6,    6,    6,\n",
       "            6,    6,    6,    6,    6,    6,    6,    6,    6,    6,    6,    6,\n",
       "            6,    6,    6,    6,    6,    6,    6,    6,    6,    6,    6,    6,\n",
       "            6,    6,    6,    5,    5,    5,    5,    5,    5,    5,    5,    6,\n",
       "            6,    6,    6,    6,    6,    6,    6,    6,   11,   11,   11,   11,\n",
       "           11,   11,   11,   11,   11,    6,    6,    6,    6,    6,    6,    6,\n",
       "            6,    6,    3,    3,    3,    6,    6,    6,    6,    6,    6,    6,\n",
       "            6,    6,    6,    6,    6,    6,    6,    6,    6,    6,    6,    6,\n",
       "            6,    6,    6,    6,    6,    6,    6,    1,    1,    1,    1,    1,\n",
       "            1,    6,    6,    6,    6,    6,    6,    6,    6,    6,    6,    6,\n",
       "            0,    0,    0,    0, -100]])"
      ]
     },
     "execution_count": 4,
     "metadata": {},
     "output_type": "execute_result"
    }
   ],
   "source": [
    "from transformers import DataCollatorForTokenClassification\n",
    "data_collator = DataCollatorForTokenClassification(tokenizer=tokenizer)\n",
    "batch = data_collator([gNerDataset[\"train\"][i] for i in range(2)])\n",
    "batch[\"labels\"]"
   ]
  },
  {
   "cell_type": "code",
   "execution_count": 5,
   "id": "52bf4eb4",
   "metadata": {},
   "outputs": [],
   "source": [
    "#from datasets import load_metric\n",
    "#metric = load_metric(\"f1\")\n",
    "#train_0_labels = gNerDataset[\"train\"][0][\"labels\"]\n",
    "#num_labels = []\n",
    "#for label in train_0_labels:\n",
    "#    if label>=0:\n",
    "#        num_labels.append(label)\n",
    "#fudged_num_labels = num_labels.copy()\n",
    "#for i in range(45):\n",
    "#    fudged_num_labels[i] = 2\n",
    "#print(num_labels)\n",
    "#print(fudged_num_labels)\n",
    "#metric.compute(predictions=fudged_num_labels, references=num_labels, average=\"macro\")"
   ]
  },
  {
   "cell_type": "code",
   "execution_count": 6,
   "id": "dcf1e632",
   "metadata": {},
   "outputs": [
    {
     "data": {
      "text/plain": [
       "({'0': 'DATUM_VERBUECHERUNG',\n",
       "  '1': 'DATUM_VERTRAG',\n",
       "  '2': 'FLAECHE',\n",
       "  '3': 'GESAMTPREIS',\n",
       "  '4': 'IMMO_TYP',\n",
       "  '5': 'KAEUFER',\n",
       "  '6': 'O',\n",
       "  '7': 'ORT',\n",
       "  '8': 'QMPREIS',\n",
       "  '9': 'STRASSE',\n",
       "  '10': 'TERRASSENGROESSE',\n",
       "  '11': 'VERKAEUFER'},\n",
       " {'DATUM_VERBUECHERUNG': '0',\n",
       "  'DATUM_VERTRAG': '1',\n",
       "  'FLAECHE': '2',\n",
       "  'GESAMTPREIS': '3',\n",
       "  'IMMO_TYP': '4',\n",
       "  'KAEUFER': '5',\n",
       "  'O': '6',\n",
       "  'ORT': '7',\n",
       "  'QMPREIS': '8',\n",
       "  'STRASSE': '9',\n",
       "  'TERRASSENGROESSE': '10',\n",
       "  'VERKAEUFER': '11'})"
      ]
     },
     "execution_count": 6,
     "metadata": {},
     "output_type": "execute_result"
    }
   ],
   "source": [
    "id2label = {str(i): label for i, label in enumerate(ner_tag_names)}\n",
    "label2id = {v: k for k, v in id2label.items()}\n",
    "id2label, label2id"
   ]
  },
  {
   "cell_type": "code",
   "execution_count": 8,
   "id": "0cb84a94",
   "metadata": {},
   "outputs": [
    {
     "name": "stderr",
     "output_type": "stream",
     "text": [
      "Some weights of the model checkpoint at bert-base-german-cased were not used when initializing BertForTokenClassification: ['cls.seq_relationship.bias', 'cls.predictions.decoder.weight', 'cls.seq_relationship.weight', 'cls.predictions.transform.LayerNorm.bias', 'cls.predictions.transform.LayerNorm.weight', 'cls.predictions.bias', 'cls.predictions.transform.dense.bias', 'cls.predictions.transform.dense.weight']\n",
      "- This IS expected if you are initializing BertForTokenClassification from the checkpoint of a model trained on another task or with another architecture (e.g. initializing a BertForSequenceClassification model from a BertForPreTraining model).\n",
      "- This IS NOT expected if you are initializing BertForTokenClassification from the checkpoint of a model that you expect to be exactly identical (initializing a BertForSequenceClassification model from a BertForSequenceClassification model).\n",
      "Some weights of BertForTokenClassification were not initialized from the model checkpoint at bert-base-german-cased and are newly initialized: ['classifier.weight', 'classifier.bias']\n",
      "You should probably TRAIN this model on a down-stream task to be able to use it for predictions and inference.\n"
     ]
    },
    {
     "data": {
      "text/plain": [
       "12"
      ]
     },
     "execution_count": 8,
     "metadata": {},
     "output_type": "execute_result"
    }
   ],
   "source": [
    "from transformers import AutoModelForTokenClassification\n",
    "model = AutoModelForTokenClassification.from_pretrained(\n",
    "    checkpoint,\n",
    "    id2label=id2label,\n",
    "    label2id=label2id\n",
    ")\n",
    "model.config.num_labels"
   ]
  },
  {
   "cell_type": "code",
   "execution_count": 9,
   "id": "53b32a3c",
   "metadata": {},
   "outputs": [],
   "source": [
    "# https://huggingface.co/docs/transformers/main/en/main_classes/trainer#transformers.Trainer.compute_metrics\n",
    "import numpy as np\n",
    "from sklearn.metrics import f1_score\n",
    "def compute_metrics(eval_preds):\n",
    "    logits, labels = eval_preds\n",
    "    labels = np.array(labels)\n",
    "    predictions = np.argmax(logits, axis=-1)\n",
    "    label_names = ner_tag_names\n",
    "    true_labels = [[label_names[l] for l in label if l != -100] for label in labels] # list of lists\n",
    "    true_predictions = [                                                             # list of lists\n",
    "        [label_names[p] for (p, l) in zip(prediction, label) if l != -100]\n",
    "        for prediction, label in zip(predictions, labels)\n",
    "    ]\n",
    "    flat_true_labels = [label for true_labels_i in true_labels for label in true_labels_i]                   # list\n",
    "    flat_true_predictions = [pred for true_predictions_i in true_predictions for pred in true_predictions_i] # list\n",
    "    macroF1 = f1_score(flat_true_labels, flat_true_predictions, average=\"macro\")\n",
    "    return {\"F1 macro\": macroF1}"
   ]
  },
  {
   "cell_type": "code",
   "execution_count": 12,
   "id": "2de88f42",
   "metadata": {},
   "outputs": [
    {
     "name": "stderr",
     "output_type": "stream",
     "text": [
      "PyTorch: setting up devices\n",
      "The default value for the training argument `--report_to` will change in v5 (from all installed integrations to none). In v5, you will need to use `--report_to all` to get the same behavior as now. You should start updating your code and make this info disappear :-).\n"
     ]
    }
   ],
   "source": [
    "# training arguments\n",
    "from transformers import TrainingArguments\n",
    "args = TrainingArguments(\n",
    "    f\"gNER_{checkpoint}\",\n",
    "    evaluation_strategy=\"epoch\",\n",
    "    save_strategy=\"epoch\",\n",
    "    # https://huggingface.co/docs/transformers/main/en/main_classes/trainer#transformers.Trainer.compute_metrics\n",
    "    learning_rate=1e-4,\n",
    "    # https://github.com/huggingface/transformers/blob/main/src/transformers/trainer_utils.py#L356\n",
    "    lr_scheduler_type=\"cosine_with_restarts\",\n",
    "    num_train_epochs=1,#40,\n",
    "    weight_decay=0.005,\n",
    "    push_to_hub=False\n",
    ")"
   ]
  },
  {
   "cell_type": "markdown",
   "id": "c0dde061",
   "metadata": {},
   "source": [
    "Save and reload the best model: https://discuss.huggingface.co/t/save-only-best-model-in-trainer/8442/4\n",
    "\n",
    "Use trained model for inference: https://discuss.huggingface.co/t/using-trainer-at-inference-time/9378"
   ]
  },
  {
   "cell_type": "code",
   "execution_count": 13,
   "id": "c04b18de",
   "metadata": {},
   "outputs": [
    {
     "name": "stderr",
     "output_type": "stream",
     "text": [
      "***** Running training *****\n",
      "  Num examples = 105\n",
      "  Num Epochs = 2\n",
      "  Instantaneous batch size per device = 8\n",
      "  Total train batch size (w. parallel, distributed & accumulation) = 8\n",
      "  Gradient Accumulation steps = 1\n",
      "  Total optimization steps = 28\n"
     ]
    },
    {
     "data": {
      "text/html": [
       "\n",
       "    <div>\n",
       "      \n",
       "      <progress value='28' max='28' style='width:300px; height:20px; vertical-align: middle;'></progress>\n",
       "      [28/28 09:56, Epoch 2/2]\n",
       "    </div>\n",
       "    <table border=\"1\" class=\"dataframe\">\n",
       "  <thead>\n",
       " <tr style=\"text-align: left;\">\n",
       "      <th>Epoch</th>\n",
       "      <th>Training Loss</th>\n",
       "      <th>Validation Loss</th>\n",
       "      <th>F1 macro</th>\n",
       "    </tr>\n",
       "  </thead>\n",
       "  <tbody>\n",
       "    <tr>\n",
       "      <td>1</td>\n",
       "      <td>No log</td>\n",
       "      <td>0.585513</td>\n",
       "      <td>0.437183</td>\n",
       "    </tr>\n",
       "    <tr>\n",
       "      <td>2</td>\n",
       "      <td>No log</td>\n",
       "      <td>0.438411</td>\n",
       "      <td>0.585334</td>\n",
       "    </tr>\n",
       "  </tbody>\n",
       "</table><p>"
      ],
      "text/plain": [
       "<IPython.core.display.HTML object>"
      ]
     },
     "metadata": {},
     "output_type": "display_data"
    },
    {
     "name": "stderr",
     "output_type": "stream",
     "text": [
      "***** Running Evaluation *****\n",
      "  Num examples = 35\n",
      "  Batch size = 8\n",
      "Saving model checkpoint to gNER_bert-base-german-cased/checkpoint-14\n",
      "Configuration saved in gNER_bert-base-german-cased/checkpoint-14/config.json\n",
      "Model weights saved in gNER_bert-base-german-cased/checkpoint-14/pytorch_model.bin\n",
      "tokenizer config file saved in gNER_bert-base-german-cased/checkpoint-14/tokenizer_config.json\n",
      "Special tokens file saved in gNER_bert-base-german-cased/checkpoint-14/special_tokens_map.json\n",
      "***** Running Evaluation *****\n",
      "  Num examples = 35\n",
      "  Batch size = 8\n",
      "Saving model checkpoint to gNER_bert-base-german-cased/checkpoint-28\n",
      "Configuration saved in gNER_bert-base-german-cased/checkpoint-28/config.json\n",
      "Model weights saved in gNER_bert-base-german-cased/checkpoint-28/pytorch_model.bin\n",
      "tokenizer config file saved in gNER_bert-base-german-cased/checkpoint-28/tokenizer_config.json\n",
      "Special tokens file saved in gNER_bert-base-german-cased/checkpoint-28/special_tokens_map.json\n",
      "\n",
      "\n",
      "Training completed. Do not forget to share your model on huggingface.co/models =)\n",
      "\n",
      "\n"
     ]
    },
    {
     "data": {
      "text/plain": [
       "TrainOutput(global_step=28, training_loss=0.8204197202410016, metrics={'train_runtime': 616.942, 'train_samples_per_second': 0.34, 'train_steps_per_second': 0.045, 'total_flos': 20763231241608.0, 'train_loss': 0.8204197202410016, 'epoch': 2.0})"
      ]
     },
     "execution_count": 13,
     "metadata": {},
     "output_type": "execute_result"
    }
   ],
   "source": [
    "from transformers import Trainer\n",
    "trainer = Trainer(\n",
    "    model=model,\n",
    "    args=args,\n",
    "    train_dataset=gNerDataset[\"train\"],\n",
    "    eval_dataset=gNerDataset[\"test\"],\n",
    "    data_collator=data_collator,\n",
    "    compute_metrics=compute_metrics,\n",
    "    tokenizer=tokenizer\n",
    ")\n",
    "trainer.train()"
   ]
  },
  {
   "cell_type": "markdown",
   "id": "be5fc322",
   "metadata": {},
   "source": [
    "$\\checkmark$"
   ]
  }
 ],
 "metadata": {
  "kernelspec": {
   "display_name": "Python 3",
   "language": "python",
   "name": "python3"
  },
  "language_info": {
   "codemirror_mode": {
    "name": "ipython",
    "version": 3
   },
   "file_extension": ".py",
   "mimetype": "text/x-python",
   "name": "python",
   "nbconvert_exporter": "python",
   "pygments_lexer": "ipython3",
   "version": "3.8.8"
  }
 },
 "nbformat": 4,
 "nbformat_minor": 5
}
